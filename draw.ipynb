{
 "cells": [
  {
   "cell_type": "code",
   "execution_count": 1,
   "id": "87eaa6c8",
   "metadata": {},
   "outputs": [
    {
     "name": "stdout",
     "output_type": "stream",
     "text": [
      "['test： f1:0.926321', 'precision:0.926781', 'recall:0.925862']\n"
     ]
    }
   ],
   "source": [
    "filepath = \"dataset/NYT24/output/99/log.txt\"\n",
    "loss, f1, preci, recall = [], [], [], []\n",
    "\n",
    "with open(filepath, \"r\") as f:\n",
    "    for i, line in enumerate(f.readlines()):\n",
    "        items = line.strip().split(\"\\t\")\n",
    "        if i==50: print(items)\n",
    "        if i < 50:\n",
    "            for j, item in enumerate(items):\n",
    "                if j==0: continue\n",
    "                elif j==1: loss.append(float(item.split(\":\")[1]))\n",
    "                elif j==2: f1.append(float(item.split(\":\")[1]))\n",
    "                elif j==3: preci.append(float(item.split(\":\")[1]))\n",
    "                elif j==4: recall.append(float(item.split(\":\")[1]))\n",
    "                    \n",
    "# print(loss)"
   ]
  },
  {
   "cell_type": "code",
   "execution_count": 2,
   "id": "c9659c14",
   "metadata": {},
   "outputs": [],
   "source": [
    "import numpy as np\n",
    "import matplotlib.pyplot as plt"
   ]
  },
  {
   "cell_type": "code",
   "execution_count": 3,
   "id": "a9be21fa",
   "metadata": {},
   "outputs": [],
   "source": [
    "def drawpics(val, name, EPOCH, title=\"\", y_floor=0., y_ceil=1., img_save=False):\n",
    "    \n",
    "    basic_ticks = int(\n",
    "        int(str(EPOCH)[0])*(10**(len(str(EPOCH))-2))) if EPOCH > 30 else 1\n",
    "    x_ticks = range(1, EPOCH+1)\n",
    "    \n",
    "    ticks = [1]\n",
    "    for i in range(basic_ticks, EPOCH+basic_ticks, basic_ticks):\n",
    "        ticks.append(i)\n",
    "        \n",
    "    m_val = np.array(val)\n",
    "\n",
    "    plt.figure(figsize=(10, 4))\n",
    "    plt.plot(x_ticks, m_val, \"-o\", color='lightskyblue',\n",
    "             markeredgecolor=\"teal\", markersize=5, markeredgewidth=1)\n",
    "\n",
    "    plt.grid(color='lightgray', linestyle='--', linewidth=1)\n",
    "\n",
    "    plt.title(title, fontsize=14)\n",
    "    plt.ylabel(name, fontsize=12)\n",
    "    plt.xlabel('Epoch', fontsize=12)\n",
    "    plt.xticks(ticks, fontsize=12)\n",
    "    plt.yticks(fontsize=12)\n",
    "    plt.ylim(y_floor, y_ceil)\n",
    "    plt.legend(['Val '+name], loc='lower right' if not name.lower().endswith('loss') else 'upper right')\n",
    "    \n",
    "#     if img_save:\n",
    "#         save_path = 'gdrive/Shareddrives/DL_project/images/direct/'\n",
    "#         plt.savefig(save_path + title+'.png', dpi=500)\n",
    "        \n",
    "    plt.show()\n",
    "    plt.close()\n",
    "    return (title+'.png')"
   ]
  },
  {
   "cell_type": "code",
   "execution_count": 4,
   "id": "38c3b9e3",
   "metadata": {},
   "outputs": [
    {
     "data": {
      "image/png": "[encoded data removed]",
      "text/plain": [
       "<Figure size 720x288 with 1 Axes>"
      ]
     },
     "metadata": {
      "needs_background": "light"
     },
     "output_type": "display_data"
    },
    {
     "data": {
      "text/plain": [
       "'Loss.png'"
      ]
     },
     "execution_count": 4,
     "metadata": {},
     "output_type": "execute_result"
    }
   ],
   "source": [
    "drawpics(loss, \"Loss\", len(loss), title=\"Loss\", y_floor=-1., y_ceil=15.)"
   ]
  }
 ],
 "metadata": {
  "kernelspec": {
   "display_name": "Python 3.8.2 64-bit",
   "language": "python",
   "name": "python3"
  },
  "language_info": {
   "codemirror_mode": {
    "name": "ipython",
    "version": 3
   },
   "file_extension": ".py",
   "mimetype": "text/x-python",
   "name": "python",
   "nbconvert_exporter": "python",
   "pygments_lexer": "ipython3",
   "version": "3.8.2"
  },
  "vscode": {
   "interpreter": {
    "hash": "31f2aee4e71d21fbe5cf8b01ff0e069b9275f58929596ceb00d14d90e3e16cd6"
   }
  }
 },
 "nbformat": 4,
 "nbformat_minor": 5
}
